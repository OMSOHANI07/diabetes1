{
 "cells": [
  {
   "cell_type": "code",
   "execution_count": 1,
   "id": "4dd5c029",
   "metadata": {},
   "outputs": [],
   "source": [
    "import pandas as pd\n",
    "dataset = pd.read_csv('diabetes_dataset_final1.csv')"
   ]
  },
  {
   "cell_type": "code",
   "execution_count": 2,
   "id": "9e352f47",
   "metadata": {},
   "outputs": [],
   "source": [
    "dataset['gender'] = dataset['gender'].replace({'male': 1, 'female': 0})"
   ]
  },
  {
   "cell_type": "code",
   "execution_count": 3,
   "id": "63bfbd9a",
   "metadata": {},
   "outputs": [
    {
     "name": "stdout",
     "output_type": "stream",
     "text": [
      "     id   chol  stab.glu   hdl  ratio  glyhb    location  age  gender  height  \\\n",
      "0  1000  203.0        82  56.0    3.6   4.31  Buckingham   46       0    62.0   \n",
      "1  1001  165.0        97  24.0    6.9   4.44  Buckingham   29       0    64.0   \n",
      "2  1002  228.0        92  37.0    6.2   4.64  Buckingham   58       0    61.0   \n",
      "3  1003   78.0        93  12.0    6.5   4.63  Buckingham   67       1    67.0   \n",
      "4  1005  249.0        90  28.0    8.9   7.72  Buckingham   64       1    68.0   \n",
      "\n",
      "   weight  bp.1s  bp.1d  bp.2s  bp.2d  waist   hip  time.ppn  diabetes  \\\n",
      "0   121.0  118.0   59.0  149.0   92.0   29.0  38.0     720.0         0   \n",
      "1   218.0  112.0   68.0  149.0   92.0   46.0  48.0     360.0         0   \n",
      "2   256.0  190.0   92.0  185.0   92.0   49.0  57.0     180.0         0   \n",
      "3   119.0  110.0   50.0  149.0   92.0   33.0  38.0     480.0         0   \n",
      "4   183.0  138.0   80.0  149.0   92.0   44.0  41.0     300.0         1   \n",
      "\n",
      "  classification  \n",
      "0   Non-Diabetic  \n",
      "1   Non-Diabetic  \n",
      "2   Non-Diabetic  \n",
      "3   Non-Diabetic  \n",
      "4       Diabetic  \n",
      "Accuracy: 97.53%\n",
      "\n",
      "CKD_stage Report:\n",
      "              precision    recall  f1-score   support\n",
      "\n",
      "    Diabetic       1.00      1.00      1.00        14\n",
      "Non-Diabetic       0.97      1.00      0.98        60\n",
      "Pre-Diabetic       1.00      0.71      0.83         7\n",
      "\n",
      "    accuracy                           0.98        81\n",
      "   macro avg       0.99      0.90      0.94        81\n",
      "weighted avg       0.98      0.98      0.97        81\n",
      "\n"
     ]
    }
   ],
   "source": [
    "# Import necessary libraries\n",
    "import pandas as pd\n",
    "from sklearn.model_selection import train_test_split\n",
    "from sklearn.ensemble import RandomForestClassifier\n",
    "from sklearn.metrics import accuracy_score, classification_report\n",
    "from sklearn.preprocessing import StandardScaler\n",
    "\n",
    "\n",
    "print(dataset.head())\n",
    "\n",
    "\n",
    "X = dataset[[ 'chol', 'stab.glu', 'hdl', 'ratio', 'glyhb', 'age','gender', 'height', 'weight', 'bp.1s', 'bp.1d', 'bp.2s','bp.2d', 'waist', 'hip', 'time.ppn']]\n",
    "y = dataset['classification']\n",
    "\n",
    "\n",
    "X_train, X_test, y_train, y_test = train_test_split(X, y, test_size=0.2, random_state=42)\n",
    "\n",
    "from sklearn.preprocessing import StandardScaler\n",
    "scaler=StandardScaler()\n",
    "X_train=scaler.fit_transform(X_train)\n",
    "X_test=scaler.transform(X_test)\n",
    "import pickle\n",
    "pickle.dump(scaler,open('scaling.pkl','wb'))\n",
    "\n",
    "rf_model = RandomForestClassifier(n_estimators=100, random_state=42)\n",
    "rf_model.fit(X_train, y_train)\n",
    "\n",
    "\n",
    "y_pred = rf_model.predict(X_test)\n",
    "\n",
    "\n",
    "accuracy = accuracy_score(y_test, y_pred)\n",
    "print(f'Accuracy: {accuracy * 100:.2f}%')\n",
    "\n",
    "\n",
    "print('\\nCKD_stage Report:')\n",
    "print(classification_report(y_test, y_pred))\n"
   ]
  },
  {
   "cell_type": "code",
   "execution_count": 4,
   "id": "08cb12e0",
   "metadata": {},
   "outputs": [],
   "source": [
    "import pickle"
   ]
  },
  {
   "cell_type": "code",
   "execution_count": 5,
   "id": "156e2291",
   "metadata": {},
   "outputs": [],
   "source": [
    "pickle.dump(rf_model,open('diabetes.pkl','wb'))"
   ]
  },
  {
   "cell_type": "code",
   "execution_count": 6,
   "id": "a411ff05",
   "metadata": {},
   "outputs": [],
   "source": [
    "pickled_model=pickle.load(open('diabetes.pkl','rb'))"
   ]
  },
  {
   "cell_type": "code",
   "execution_count": null,
   "id": "f484e9ae",
   "metadata": {},
   "outputs": [],
   "source": []
  }
 ],
 "metadata": {
  "kernelspec": {
   "display_name": "Python 3 (ipykernel)",
   "language": "python",
   "name": "python3"
  },
  "language_info": {
   "codemirror_mode": {
    "name": "ipython",
    "version": 3
   },
   "file_extension": ".py",
   "mimetype": "text/x-python",
   "name": "python",
   "nbconvert_exporter": "python",
   "pygments_lexer": "ipython3",
   "version": "3.11.4"
  }
 },
 "nbformat": 4,
 "nbformat_minor": 5
}
